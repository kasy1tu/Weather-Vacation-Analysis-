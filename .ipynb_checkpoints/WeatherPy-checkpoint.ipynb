{
 "cells": [
  {
   "cell_type": "markdown",
   "metadata": {},
   "source": [
    "# WeatherPy\n",
    "----\n",
    "\n",
    "#### Note\n",
    "* Instructions have been included for each segment. You do not have to follow them exactly, but they are included to help you think through the steps."
   ]
  },
  {
   "cell_type": "code",
   "execution_count": null,
   "metadata": {},
   "outputs": [],
   "source": [
    "!pip3 install citipy"
   ]
  },
  {
   "cell_type": "code",
   "execution_count": 1,
   "metadata": {
    "scrolled": true
   },
   "outputs": [],
   "source": [
    "# Dependencies and Setup\n",
    "import matplotlib.pyplot as plt\n",
    "import pandas as pd\n",
    "import numpy as np\n",
    "import requests\n",
    "import time\n",
    "import json\n",
    "from scipy.stats import linregress\n",
    "\n",
    "\n",
    "# Import API key\n",
    "from api_keys import weather_api_key\n",
    "\n",
    "# Incorporated citipy to determine city based on latitude and longitude\n",
    "from citipy import citipy\n",
    "\n",
    "# Output File (CSV)\n",
    "output_data_file = \"output_data/cities.csv\"\n",
    "\n",
    "# Range of latitudes and longitudes\n",
    "lat_range = (-90, 90)\n",
    "lng_range = (-180, 180)\n",
    "\n"
   ]
  },
  {
   "cell_type": "markdown",
   "metadata": {},
   "source": [
    "## Generate Cities List"
   ]
  },
  {
   "cell_type": "code",
   "execution_count": 2,
   "metadata": {},
   "outputs": [
    {
     "data": {
      "text/plain": [
       "624"
      ]
     },
     "execution_count": 2,
     "metadata": {},
     "output_type": "execute_result"
    }
   ],
   "source": [
    "# List for holding lat_lngs and cities\n",
    "lat_lngs = []\n",
    "cities = []\n",
    "\n",
    "# Create a set of random lat and lng combinations\n",
    "lats = np.random.uniform(lat_range[0], lat_range[1], size=1500)\n",
    "lngs = np.random.uniform(lng_range[0], lng_range[1], size=1500)\n",
    "lat_lngs = zip(lats, lngs)\n",
    "\n",
    "# Identify nearest city for each lat, lng combination\n",
    "for lat_lng in lat_lngs:\n",
    "    city = citipy.nearest_city(lat_lng[0], lat_lng[1]).city_name\n",
    "    \n",
    "    # If the city is unique, then add it to a our cities list\n",
    "    if city not in cities:\n",
    "        cities.append(city)\n",
    "\n",
    "# Print the city count to confirm sufficient count\n",
    "len(cities)"
   ]
  },
  {
   "cell_type": "markdown",
   "metadata": {},
   "source": [
    "### Perform API Calls\n",
    "* Perform a weather check on each city using a series of successive API calls.\n",
    "* Include a print log of each city as it'sbeing processed (with the city number and city name).\n"
   ]
  },
  {
   "cell_type": "code",
   "execution_count": null,
   "metadata": {},
   "outputs": [
    {
     "name": "stdout",
     "output_type": "stream",
     "text": [
      "Loading city: 0 georgetown\n",
      "Loading city: 1 sembe\n",
      "City not found\n",
      "Loading city: 3 leningradskiy\n",
      "Loading city: 4 busselton\n",
      "Loading city: 5 sao gabriel da cachoeira\n",
      "Loading city: 6 east london\n",
      "City not found\n",
      "Loading city: 8 kavieng\n",
      "Loading city: 9 rawson\n",
      "Loading city: 10 den helder\n",
      "Loading city: 11 pontes e lacerda\n",
      "Loading city: 12 sakakah\n",
      "Loading city: 13 vaini\n",
      "Loading city: 14 port hardy\n",
      "Loading city: 15 chirilagua\n",
      "Loading city: 16 cervo\n",
      "City not found\n",
      "Loading city: 18 nikolskoye\n",
      "Loading city: 19 hobart\n",
      "Loading city: 20 castro\n",
      "Loading city: 21 alamogordo\n",
      "Loading city: 22 vostok\n",
      "Loading city: 23 punta arenas\n",
      "City not found\n",
      "City not found\n",
      "Loading city: 26 kyshtovka\n",
      "Loading city: 27 port elizabeth\n",
      "Loading city: 28 riyadh\n",
      "Loading city: 29 kapaa\n",
      "Loading city: 30 kulim\n",
      "Loading city: 31 bambous virieux\n",
      "Loading city: 32 inhambane\n",
      "Loading city: 33 provideniya\n",
      "Loading city: 34 kahului\n",
      "Loading city: 35 hithadhoo\n",
      "Loading city: 36 viedma\n",
      "Loading city: 37 iskateley\n",
      "Loading city: 38 kongsvinger\n",
      "Loading city: 39 bluff\n",
      "Loading city: 40 morant bay\n",
      "Loading city: 41 shitanjing\n",
      "Loading city: 42 porais\n",
      "Loading city: 43 merauke\n",
      "Loading city: 44 atuona\n",
      "Loading city: 45 san cristobal\n",
      "Loading city: 46 rikitea\n",
      "City not found\n",
      "Loading city: 48 sao joao da barra\n",
      "Loading city: 49 yellowknife\n",
      "Loading city: 50 sereflikochisar\n",
      "Loading city: 51 norman wells\n",
      "Loading city: 52 vardo\n",
      "Loading city: 53 ishigaki\n",
      "Loading city: 54 ginir\n",
      "Loading city: 55 ko samui\n",
      "Loading city: 56 barrow\n",
      "Loading city: 57 nome\n",
      "Loading city: 58 cape town\n",
      "Loading city: 59 yeppoon\n",
      "Loading city: 60 christchurch\n",
      "Loading city: 61 gyulahaza\n",
      "Loading city: 62 nsanje\n",
      "Loading city: 63 lebu\n",
      "Loading city: 64 mataura\n",
      "Loading city: 65 salinopolis\n",
      "Loading city: 66 tambopata\n",
      "City not found\n",
      "City not found\n",
      "Loading city: 69 ushuaia\n",
      "Loading city: 70 iqaluit\n",
      "Loading city: 71 esperance\n",
      "Loading city: 72 correntina\n",
      "Loading city: 73 puerto leguizamo\n",
      "Loading city: 74 kalmunai\n",
      "Loading city: 75 bethel\n",
      "Loading city: 76 mandalgovi\n",
      "Loading city: 77 byron bay\n",
      "Loading city: 78 daru\n",
      "Loading city: 79 richmond\n",
      "Loading city: 80 puerto ayora\n",
      "Loading city: 81 albany\n",
      "Loading city: 82 tuktoyaktuk\n",
      "Loading city: 83 llata\n",
      "Loading city: 84 souillac\n",
      "Loading city: 85 qasigiannguit\n",
      "Loading city: 86 puerto del rosario\n",
      "City not found\n",
      "Loading city: 88 kodiak\n",
      "Loading city: 89 kozhva\n",
      "Loading city: 90 vaitape\n",
      "City not found\n",
      "Loading city: 92 lavrentiya\n",
      "Loading city: 93 teguldet\n",
      "Loading city: 94 arraial do cabo\n",
      "City not found\n",
      "City not found\n",
      "Loading city: 97 katsuura\n",
      "Loading city: 98 road town\n",
      "Loading city: 99 ketchikan\n",
      "Loading city: 100 faya\n",
      "Loading city: 101 macenta\n",
      "Loading city: 102 maceio\n",
      "Loading city: 103 longyearbyen\n",
      "Loading city: 104 qaanaaq\n",
      "Loading city: 105 sumter\n",
      "Loading city: 106 airai\n",
      "Loading city: 107 cidreira\n",
      "Loading city: 108 ust-tsilma\n",
      "Loading city: 109 bay roberts\n",
      "City not found\n",
      "Loading city: 111 zyryanovsk\n",
      "Loading city: 112 lakshmeshwar\n",
      "Loading city: 113 itarema\n",
      "Loading city: 114 torbay\n",
      "Loading city: 115 jamestown\n",
      "Loading city: 116 atasu\n",
      "Loading city: 117 sistranda\n",
      "Loading city: 118 dikson\n",
      "Loading city: 119 saint-georges\n",
      "Loading city: 120 champerico\n",
      "Loading city: 121 sitio novo do tocantins\n",
      "Loading city: 122 kakinada\n",
      "Loading city: 123 sainte-suzanne\n",
      "Loading city: 124 nkhotakota\n",
      "Loading city: 125 husavik\n",
      "Loading city: 126 doha\n",
      "Loading city: 127 avarua\n",
      "Loading city: 128 mehamn\n"
     ]
    }
   ],
   "source": [
    "url = \"http://api.openweathermap.org/data/2.5/weather?\"\n",
    "units = \"imperial\"\n",
    "\n",
    "city_name = []\n",
    "lat = []\n",
    "lon = []\n",
    "max_temp = []\n",
    "humidity = []\n",
    "cloudiness = []\n",
    "wind_speed = []\n",
    "country = []\n",
    "date = []\n",
    "\n",
    "for i, city in enumerate(cities):\n",
    "    query_url = f\"{url}appid={weather_api_key}&units={units}&q=\"\n",
    "    try:\n",
    "        response = requests.get(f\"{query_url}{city}\").json()\n",
    "        city_name.append(response['name'])\n",
    "        lat.append(response['coord']['lat'])\n",
    "        lon.append(response['coord']['lon'])\n",
    "        max_temp.append(response['main']['temp_max'])\n",
    "        humidity.append(response['main']['humidity'])\n",
    "        cloudiness.append(response['clouds']['all'])\n",
    "        wind_speed.append(response['wind']['speed'])\n",
    "        country.append(response['sys']['country'])\n",
    "        date.append(response['dt'])\n",
    "        print(f\"Loading city: {i} {city}\")\n",
    "    except:\n",
    "        print(\"City not found\")\n",
    "    pass\n"
   ]
  },
  {
   "cell_type": "code",
   "execution_count": null,
   "metadata": {},
   "outputs": [],
   "source": [
    "test = pd.DataFrame({\"City\": city_name,\n",
    "                     \"Lattitude\": lat,\n",
    "                     \"Longitude\": lon,\n",
    "                     \"Max Temp\": max_temp,\n",
    "                     \"Humidity\": humidity,\n",
    "                     \"Cloudiness\": cloudiness,\n",
    "                     \"Wind Speed\": wind_speed,\n",
    "                     \"Country\": country,\n",
    "                     \"Date\": date\n",
    "                    })\n",
    "test"
   ]
  },
  {
   "cell_type": "markdown",
   "metadata": {},
   "source": [
    "### Convert Raw Data to DataFrame\n",
    "* Export the city data into a .csv.\n",
    "* Display the DataFrame"
   ]
  },
  {
   "cell_type": "code",
   "execution_count": null,
   "metadata": {},
   "outputs": [],
   "source": []
  },
  {
   "cell_type": "code",
   "execution_count": null,
   "metadata": {},
   "outputs": [],
   "source": []
  },
  {
   "cell_type": "code",
   "execution_count": null,
   "metadata": {},
   "outputs": [],
   "source": []
  },
  {
   "cell_type": "markdown",
   "metadata": {},
   "source": [
    "## Inspect the data and remove the cities where the humidity > 100%.\n",
    "----\n",
    "Skip this step if there are no cities that have humidity > 100%. "
   ]
  },
  {
   "cell_type": "code",
   "execution_count": null,
   "metadata": {},
   "outputs": [],
   "source": []
  },
  {
   "cell_type": "code",
   "execution_count": null,
   "metadata": {},
   "outputs": [],
   "source": [
    "#  Get the indices of cities that have humidity over 100%.\n"
   ]
  },
  {
   "cell_type": "code",
   "execution_count": null,
   "metadata": {},
   "outputs": [],
   "source": [
    "# Make a new DataFrame equal to the city data to drop all humidity outliers by index.\n",
    "# Passing \"inplace=False\" will make a copy of the city_data DataFrame, which we call \"clean_city_data\".\n"
   ]
  },
  {
   "cell_type": "code",
   "execution_count": null,
   "metadata": {},
   "outputs": [],
   "source": [
    "\n"
   ]
  },
  {
   "cell_type": "markdown",
   "metadata": {},
   "source": [
    "## Plotting the Data\n",
    "* Use proper labeling of the plots using plot titles (including date of analysis) and axes labels.\n",
    "* Save the plotted figures as .pngs."
   ]
  },
  {
   "cell_type": "markdown",
   "metadata": {},
   "source": [
    "## Latitude vs. Temperature Plot"
   ]
  },
  {
   "cell_type": "code",
   "execution_count": null,
   "metadata": {
    "scrolled": true
   },
   "outputs": [],
   "source": []
  },
  {
   "cell_type": "markdown",
   "metadata": {},
   "source": [
    "## Latitude vs. Humidity Plot"
   ]
  },
  {
   "cell_type": "code",
   "execution_count": null,
   "metadata": {},
   "outputs": [],
   "source": []
  },
  {
   "cell_type": "markdown",
   "metadata": {},
   "source": [
    "## Latitude vs. Cloudiness Plot"
   ]
  },
  {
   "cell_type": "code",
   "execution_count": null,
   "metadata": {},
   "outputs": [],
   "source": []
  },
  {
   "cell_type": "markdown",
   "metadata": {},
   "source": [
    "## Latitude vs. Wind Speed Plot"
   ]
  },
  {
   "cell_type": "code",
   "execution_count": null,
   "metadata": {},
   "outputs": [],
   "source": []
  },
  {
   "cell_type": "markdown",
   "metadata": {},
   "source": [
    "## Linear Regression"
   ]
  },
  {
   "cell_type": "code",
   "execution_count": null,
   "metadata": {},
   "outputs": [],
   "source": []
  },
  {
   "cell_type": "markdown",
   "metadata": {},
   "source": [
    "####  Northern Hemisphere - Max Temp vs. Latitude Linear Regression"
   ]
  },
  {
   "cell_type": "code",
   "execution_count": null,
   "metadata": {},
   "outputs": [],
   "source": []
  },
  {
   "cell_type": "markdown",
   "metadata": {},
   "source": [
    "####  Southern Hemisphere - Max Temp vs. Latitude Linear Regression"
   ]
  },
  {
   "cell_type": "code",
   "execution_count": null,
   "metadata": {},
   "outputs": [],
   "source": []
  },
  {
   "cell_type": "markdown",
   "metadata": {},
   "source": [
    "####  Northern Hemisphere - Humidity (%) vs. Latitude Linear Regression"
   ]
  },
  {
   "cell_type": "code",
   "execution_count": null,
   "metadata": {},
   "outputs": [],
   "source": []
  },
  {
   "cell_type": "markdown",
   "metadata": {},
   "source": [
    "####  Southern Hemisphere - Humidity (%) vs. Latitude Linear Regression"
   ]
  },
  {
   "cell_type": "code",
   "execution_count": null,
   "metadata": {},
   "outputs": [],
   "source": []
  },
  {
   "cell_type": "markdown",
   "metadata": {},
   "source": [
    "####  Northern Hemisphere - Cloudiness (%) vs. Latitude Linear Regression"
   ]
  },
  {
   "cell_type": "code",
   "execution_count": null,
   "metadata": {},
   "outputs": [],
   "source": []
  },
  {
   "cell_type": "markdown",
   "metadata": {},
   "source": [
    "####  Southern Hemisphere - Cloudiness (%) vs. Latitude Linear Regression"
   ]
  },
  {
   "cell_type": "code",
   "execution_count": null,
   "metadata": {},
   "outputs": [],
   "source": []
  },
  {
   "cell_type": "markdown",
   "metadata": {},
   "source": [
    "####  Northern Hemisphere - Wind Speed (mph) vs. Latitude Linear Regression"
   ]
  },
  {
   "cell_type": "code",
   "execution_count": null,
   "metadata": {},
   "outputs": [],
   "source": []
  },
  {
   "cell_type": "markdown",
   "metadata": {},
   "source": [
    "####  Southern Hemisphere - Wind Speed (mph) vs. Latitude Linear Regression"
   ]
  },
  {
   "cell_type": "code",
   "execution_count": null,
   "metadata": {},
   "outputs": [],
   "source": []
  },
  {
   "cell_type": "code",
   "execution_count": null,
   "metadata": {},
   "outputs": [],
   "source": []
  }
 ],
 "metadata": {
  "anaconda-cloud": {},
  "kernel_info": {
   "name": "python3"
  },
  "kernelspec": {
   "display_name": "Python 3",
   "language": "python",
   "name": "python3"
  },
  "language_info": {
   "codemirror_mode": {
    "name": "ipython",
    "version": 3
   },
   "file_extension": ".py",
   "mimetype": "text/x-python",
   "name": "python",
   "nbconvert_exporter": "python",
   "pygments_lexer": "ipython3",
   "version": "3.8.5"
  },
  "latex_envs": {
   "LaTeX_envs_menu_present": true,
   "autoclose": false,
   "autocomplete": true,
   "bibliofile": "biblio.bib",
   "cite_by": "apalike",
   "current_citInitial": 1,
   "eqLabelWithNumbers": true,
   "eqNumInitial": 1,
   "hotkeys": {
    "equation": "Ctrl-E",
    "itemize": "Ctrl-I"
   },
   "labels_anchors": false,
   "latex_user_defs": false,
   "report_style_numbering": false,
   "user_envs_cfg": false
  },
  "nteract": {
   "version": "0.12.3"
  }
 },
 "nbformat": 4,
 "nbformat_minor": 2
}
